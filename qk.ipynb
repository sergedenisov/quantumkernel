{
  "nbformat": 4,
  "nbformat_minor": 0,
  "metadata": {
    "colab": {
      "provenance": [],
      "gpuType": "T4"
    },
    "kernelspec": {
      "name": "python3",
      "display_name": "Python 3"
    },
    "language_info": {
      "name": "python"
    }
  },
  "cells": [
    {
      "cell_type": "markdown",
      "source": [
        "# Comparing quantum kernel methods"
      ],
      "metadata": {
        "id": "Yp02DpRSgsoZ"
      }
    },
    {
      "cell_type": "markdown",
      "source": [
        "We will compare 3 feature maps in their preformence solving 3 different problems(datasets). For these feature maps we will use the corresponding kernels, commonly paired with them in papers.\n",
        "\n",
        "The feature maps:\n",
        "\n",
        "1.   Amplitude-Encoding\n",
        "2.   Variational Kernel\n",
        "3.  Squeezing\n",
        "\n",
        "The problems:\n",
        "\n",
        "\n",
        "1.   Iris\n",
        "2.   Digits 0s and 1s\n",
        "3.   Moons\n"
      ],
      "metadata": {
        "id": "FEAQ86y9g4uG"
      }
    },
    {
      "cell_type": "markdown",
      "source": [
        "Importing libraries"
      ],
      "metadata": {
        "id": "AXV8juM6zlpy"
      }
    },
    {
      "cell_type": "code",
      "source": [
        "!pip install qiskit_machine_learning"
      ],
      "metadata": {
        "colab": {
          "base_uri": "https://localhost:8080/"
        },
        "id": "pMxRggrxTsXS",
        "outputId": "14b70030-60e5-4ec3-97d5-7923ebfbcc85"
      },
      "execution_count": 2,
      "outputs": [
        {
          "output_type": "stream",
          "name": "stdout",
          "text": [
            "Collecting qiskit_machine_learning\n",
            "  Downloading qiskit_machine_learning-0.8.0-py3-none-any.whl.metadata (13 kB)\n",
            "Collecting qiskit>=1.0 (from qiskit_machine_learning)\n",
            "  Downloading qiskit-1.3.0-cp39-abi3-manylinux_2_17_x86_64.manylinux2014_x86_64.whl.metadata (12 kB)\n",
            "Requirement already satisfied: scipy>=1.4 in /usr/local/lib/python3.10/dist-packages (from qiskit_machine_learning) (1.13.1)\n",
            "Requirement already satisfied: numpy>=1.17 in /usr/local/lib/python3.10/dist-packages (from qiskit_machine_learning) (1.26.4)\n",
            "Requirement already satisfied: psutil>=5 in /usr/local/lib/python3.10/dist-packages (from qiskit_machine_learning) (5.9.5)\n",
            "Requirement already satisfied: scikit-learn>=1.2.0 in /usr/local/lib/python3.10/dist-packages (from qiskit_machine_learning) (1.5.2)\n",
            "Collecting fastdtw (from qiskit_machine_learning)\n",
            "  Downloading fastdtw-0.3.4.tar.gz (133 kB)\n",
            "\u001b[2K     \u001b[90m━━━━━━━━━━━━━━━━━━━━━━━━━━━━━━━━━━━━━━━━\u001b[0m \u001b[32m133.4/133.4 kB\u001b[0m \u001b[31m5.9 MB/s\u001b[0m eta \u001b[36m0:00:00\u001b[0m\n",
            "\u001b[?25h  Preparing metadata (setup.py) ... \u001b[?25l\u001b[?25hdone\n",
            "Requirement already satisfied: setuptools>=40.1.0 in /usr/local/lib/python3.10/dist-packages (from qiskit_machine_learning) (75.1.0)\n",
            "Collecting dill>=0.3.4 (from qiskit_machine_learning)\n",
            "  Downloading dill-0.3.9-py3-none-any.whl.metadata (10 kB)\n",
            "Collecting rustworkx>=0.15.0 (from qiskit>=1.0->qiskit_machine_learning)\n",
            "  Downloading rustworkx-0.15.1-cp38-abi3-manylinux_2_17_x86_64.manylinux2014_x86_64.whl.metadata (9.9 kB)\n",
            "Requirement already satisfied: sympy>=1.3 in /usr/local/lib/python3.10/dist-packages (from qiskit>=1.0->qiskit_machine_learning) (1.13.1)\n",
            "Requirement already satisfied: python-dateutil>=2.8.0 in /usr/local/lib/python3.10/dist-packages (from qiskit>=1.0->qiskit_machine_learning) (2.8.2)\n",
            "Collecting stevedore>=3.0.0 (from qiskit>=1.0->qiskit_machine_learning)\n",
            "  Downloading stevedore-5.4.0-py3-none-any.whl.metadata (2.3 kB)\n",
            "Requirement already satisfied: typing-extensions in /usr/local/lib/python3.10/dist-packages (from qiskit>=1.0->qiskit_machine_learning) (4.12.2)\n",
            "Collecting symengine<0.14,>=0.11 (from qiskit>=1.0->qiskit_machine_learning)\n",
            "  Downloading symengine-0.13.0-cp310-cp310-manylinux_2_17_x86_64.manylinux2014_x86_64.whl.metadata (1.2 kB)\n",
            "Requirement already satisfied: joblib>=1.2.0 in /usr/local/lib/python3.10/dist-packages (from scikit-learn>=1.2.0->qiskit_machine_learning) (1.4.2)\n",
            "Requirement already satisfied: threadpoolctl>=3.1.0 in /usr/local/lib/python3.10/dist-packages (from scikit-learn>=1.2.0->qiskit_machine_learning) (3.5.0)\n",
            "Requirement already satisfied: six>=1.5 in /usr/local/lib/python3.10/dist-packages (from python-dateutil>=2.8.0->qiskit>=1.0->qiskit_machine_learning) (1.16.0)\n",
            "Collecting pbr>=2.0.0 (from stevedore>=3.0.0->qiskit>=1.0->qiskit_machine_learning)\n",
            "  Downloading pbr-6.1.0-py2.py3-none-any.whl.metadata (3.4 kB)\n",
            "Requirement already satisfied: mpmath<1.4,>=1.1.0 in /usr/local/lib/python3.10/dist-packages (from sympy>=1.3->qiskit>=1.0->qiskit_machine_learning) (1.3.0)\n",
            "Downloading qiskit_machine_learning-0.8.0-py3-none-any.whl (237 kB)\n",
            "\u001b[2K   \u001b[90m━━━━━━━━━━━━━━━━━━━━━━━━━━━━━━━━━━━━━━━━\u001b[0m \u001b[32m237.5/237.5 kB\u001b[0m \u001b[31m16.7 MB/s\u001b[0m eta \u001b[36m0:00:00\u001b[0m\n",
            "\u001b[?25hDownloading dill-0.3.9-py3-none-any.whl (119 kB)\n",
            "\u001b[2K   \u001b[90m━━━━━━━━━━━━━━━━━━━━━━━━━━━━━━━━━━━━━━━━\u001b[0m \u001b[32m119.4/119.4 kB\u001b[0m \u001b[31m10.7 MB/s\u001b[0m eta \u001b[36m0:00:00\u001b[0m\n",
            "\u001b[?25hDownloading qiskit-1.3.0-cp39-abi3-manylinux_2_17_x86_64.manylinux2014_x86_64.whl (6.7 MB)\n",
            "\u001b[2K   \u001b[90m━━━━━━━━━━━━━━━━━━━━━━━━━━━━━━━━━━━━━━━━\u001b[0m \u001b[32m6.7/6.7 MB\u001b[0m \u001b[31m74.5 MB/s\u001b[0m eta \u001b[36m0:00:00\u001b[0m\n",
            "\u001b[?25hDownloading rustworkx-0.15.1-cp38-abi3-manylinux_2_17_x86_64.manylinux2014_x86_64.whl (2.0 MB)\n",
            "\u001b[2K   \u001b[90m━━━━━━━━━━━━━━━━━━━━━━━━━━━━━━━━━━━━━━━━\u001b[0m \u001b[32m2.0/2.0 MB\u001b[0m \u001b[31m62.8 MB/s\u001b[0m eta \u001b[36m0:00:00\u001b[0m\n",
            "\u001b[?25hDownloading stevedore-5.4.0-py3-none-any.whl (49 kB)\n",
            "\u001b[2K   \u001b[90m━━━━━━━━━━━━━━━━━━━━━━━━━━━━━━━━━━━━━━━━\u001b[0m \u001b[32m49.5/49.5 kB\u001b[0m \u001b[31m3.7 MB/s\u001b[0m eta \u001b[36m0:00:00\u001b[0m\n",
            "\u001b[?25hDownloading symengine-0.13.0-cp310-cp310-manylinux_2_17_x86_64.manylinux2014_x86_64.whl (49.7 MB)\n",
            "\u001b[2K   \u001b[90m━━━━━━━━━━━━━━━━━━━━━━━━━━━━━━━━━━━━━━━━\u001b[0m \u001b[32m49.7/49.7 MB\u001b[0m \u001b[31m11.2 MB/s\u001b[0m eta \u001b[36m0:00:00\u001b[0m\n",
            "\u001b[?25hDownloading pbr-6.1.0-py2.py3-none-any.whl (108 kB)\n",
            "\u001b[2K   \u001b[90m━━━━━━━━━━━━━━━━━━━━━━━━━━━━━━━━━━━━━━━━\u001b[0m \u001b[32m108.5/108.5 kB\u001b[0m \u001b[31m7.3 MB/s\u001b[0m eta \u001b[36m0:00:00\u001b[0m\n",
            "\u001b[?25hBuilding wheels for collected packages: fastdtw\n",
            "  Building wheel for fastdtw (setup.py) ... \u001b[?25l\u001b[?25hdone\n",
            "  Created wheel for fastdtw: filename=fastdtw-0.3.4-cp310-cp310-linux_x86_64.whl size=512556 sha256=18321f823ad1cd987032300ed3aecfc2be4a3adaedcf501be827bc6c55901560\n",
            "  Stored in directory: /root/.cache/pip/wheels/73/c8/f7/c25448dab74c3acf4848bc25d513c736bb93910277e1528ef4\n",
            "Successfully built fastdtw\n",
            "Installing collected packages: symengine, rustworkx, pbr, fastdtw, dill, stevedore, qiskit, qiskit_machine_learning\n",
            "Successfully installed dill-0.3.9 fastdtw-0.3.4 pbr-6.1.0 qiskit-1.3.0 qiskit_machine_learning-0.8.0 rustworkx-0.15.1 stevedore-5.4.0 symengine-0.13.0\n"
          ]
        }
      ]
    },
    {
      "cell_type": "code",
      "execution_count": 22,
      "metadata": {
        "id": "QlDpxI1wgqjM"
      },
      "outputs": [],
      "source": [
        "\n",
        "#setting seed\n",
        "\n",
        "from sklearn.cluster import SpectralClustering\n",
        "from sklearn.metrics import normalized_mutual_info_score\n",
        "'''\n",
        "from qiskit.circuit.library import ZZFeatureMap\n",
        "from qiskit_machine_learning.kernels import FidelityQuantumKernel\n",
        "from qiskit_machine_learning.datasets import ad_hoc_data'''\n",
        "import matplotlib.pyplot as plt\n",
        "import numpy as np\n",
        "\n",
        "from sklearn import datasets\n",
        "from sklearn.svm import SVC\n",
        "from sklearn.model_selection import train_test_split\n",
        "#from sklearn.metrics import accuracy_score\n",
        "#from qiskit_aer import Aer\n",
        "#from qiskit.utils import QuantumInstance\n",
        "#from qiskit_machine_learning.kernels import QuantumKernel\n",
        "\n",
        "from qiskit import QuantumCircuit, transpile\n",
        "from qiskit.primitives import Estimator\n",
        "from sklearn.datasets import load_iris\n",
        "from sklearn.model_selection import train_test_split\n",
        "from sklearn.preprocessing import normalize\n",
        "from sklearn.svm import SVC\n",
        "import numpy as np\n",
        "\n",
        "from qiskit.quantum_info import Statevector\n",
        "from qiskit.circuit.library import ZZFeatureMap\n",
        "from qiskit.circuit.library import TwoLocal\n",
        "\n"
      ]
    },
    {
      "cell_type": "markdown",
      "source": [
        "Setting up the feature maps"
      ],
      "metadata": {
        "id": "8emt56AffAjP"
      }
    },
    {
      "cell_type": "code",
      "source": [
        "# Amplitude-Encoding Feature Map\n",
        "\n",
        "def amplitude_encoding(data):\n",
        "    n_qubits = int(np.ceil(np.log2(len(data))))\n",
        "    circuit = QuantumCircuit(n_qubits)\n",
        "    padded_data = np.zeros(2**n_qubits)\n",
        "    padded_data[:len(data)] = data\n",
        "    norm = np.linalg.norm(padded_data)\n",
        "    normalized_data = padded_data / norm\n",
        "    circuit.initialize(normalized_data, range(n_qubits))\n",
        "    return circuit\n",
        "\n",
        "\n",
        "# Squeezing Feature Map\n",
        "def squeezing_feature_map(data):\n",
        "    n_qubits = len(data)\n",
        "    circuit = QuantumCircuit(n_qubits)\n",
        "    for i, x in enumerate(data):\n",
        "        circuit.ry(np.arcsin(np.tanh(x)), i)  # Approximate squeezing\n",
        "        circuit.rz(x, i)  # Phase encoding\n",
        "    return circuit\n",
        "\n",
        "def zz_feature_map(data):\n",
        "    n_qubits = len(data)\n",
        "    feature_map = ZZFeatureMap(feature_dimension=n_qubits, reps=2)\n",
        "    parameterized_circuit = feature_map.assign_parameters(data)\n",
        "    return parameterized_circuit\n"
      ],
      "metadata": {
        "id": "dadxg3WUfACv"
      },
      "execution_count": 23,
      "outputs": []
    },
    {
      "cell_type": "markdown",
      "source": [
        "Setting up the kernel"
      ],
      "metadata": {
        "id": "n3_q_MWt-euz"
      }
    },
    {
      "cell_type": "code",
      "source": [
        "# Kernel computation function using Statevector for fidelity calculation\n",
        "def compute_kernel(X1, X2, feature_map):\n",
        "    kernel_matrix = np.zeros((len(X1), len(X2)))\n",
        "\n",
        "    for i, x1 in enumerate(X1):\n",
        "        for j, x2 in enumerate(X2):\n",
        "            # Create feature map circuits\n",
        "            qc1 = feature_map(x1)\n",
        "            qc2 = feature_map(x2)\n",
        "\n",
        "            # Compute statevectors\n",
        "            state1 = Statevector.from_instruction(qc1)\n",
        "            state2 = Statevector.from_instruction(qc2)\n",
        "\n",
        "            # Compute fidelity\n",
        "            fidelity = np.abs(state1.inner(state2)) ** 2\n",
        "            kernel_matrix[i, j] = fidelity\n",
        "\n",
        "    return kernel_matrix"
      ],
      "metadata": {
        "id": "4Q6kkYaN-j9M"
      },
      "execution_count": 24,
      "outputs": []
    },
    {
      "cell_type": "markdown",
      "source": [
        "#Iris"
      ],
      "metadata": {
        "id": "9WTcGWM20RgO"
      }
    },
    {
      "cell_type": "code",
      "source": [
        "# Load Iris dataset and normalize\n",
        "\n",
        "# Load Iris dataset for Amplitude-Encoding Feature Map\n",
        "iris = load_iris()\n",
        "X, y = iris.data, iris.target\n",
        "y = (y < 2).astype(int)  # Binary classification\n",
        "X = StandardScaler().fit_transform(X)  # Normalize data\n",
        "X_train, X_test, y_train, y_test = train_test_split(X, y, test_size=0.3, random_state=42)\n",
        "\n",
        "\n",
        "# Train and test kernel SVM\n",
        "# Amplitude\n",
        "train_kernel_amplitude = compute_kernel(X_train, X_train, amplitude_encoding)\n",
        "test_kernel_amplitude = compute_kernel(X_test, X_train, amplitude_encoding)\n",
        "# Squeezing\n",
        "train_kernel_squeezing = compute_kernel(X_train, X_train, squeezing_feature_map)\n",
        "test_kernel_squeezing = compute_kernel(X_test, X_train, squeezing_feature_map)\n",
        "# Variational\n",
        "train_kernel_variational = compute_kernel(X_train, X_train, zz_feature_map)\n",
        "test_kernel_variational = compute_kernel(X_test, X_train, zz_feature_map)\n",
        "\n",
        "svm = SVC(kernel='precomputed')\n",
        "svm.fit(train_kernel_amplitude, y_train)\n",
        "y_pred_amplitude = svm.predict(test_kernel_amplitude)\n",
        "\n",
        "svm = SVC(kernel='precomputed')\n",
        "svm.fit(train_kernel_squeezing, y_train)\n",
        "y_pred_squeezing = svm.predict(test_kernel_squeezing)\n",
        "\n",
        "svm = SVC(kernel='precomputed')\n",
        "svm.fit(train_kernel_variational, y_train)\n",
        "y_pred_variational = svm.predict(test_kernel_variational)\n",
        "\n",
        "# Accuracy\n",
        "accuracy_amplitude = np.mean(y_pred_amplitude == y_test)\n",
        "accuracy_squeezing = np.mean(y_pred_squeezing == y_test)\n",
        "accuracy_variational = np.mean(y_pred_variational == y_test)\n",
        "\n",
        "print(f\"Amplitude-Encoding Kernel Test Accuracy: {accuracy_amplitude * 100:.2f}%\")\n",
        "print(f\"Squeezing-Based Kernel Test Accuracy: {accuracy_squeezing * 100:.2f}%\")\n",
        "print(f\"Variational Kernel Test Accuracy: {accuracy_variational * 100:.2f}%\")\n",
        "\n"
      ],
      "metadata": {
        "colab": {
          "base_uri": "https://localhost:8080/"
        },
        "id": "obBC0xNpzpSj",
        "outputId": "feb4e98a-4b0a-496e-d64a-fef08e937f32"
      },
      "execution_count": 25,
      "outputs": [
        {
          "output_type": "stream",
          "name": "stdout",
          "text": [
            "Amplitude-Encoding Kernel Test Accuracy: 75.56%\n",
            "Squeezing-Based Kernel Test Accuracy: 97.78%\n",
            "Variational Kernel Test Accuracy: 73.33%\n"
          ]
        }
      ]
    },
    {
      "cell_type": "markdown",
      "source": [
        "Amplitude-Encoding Kernel Test Accuracy: 75.56%\n",
        "Squeezing-Based Kernel Test Accuracy: 97.78%\n",
        "Variational Kernel Test Accuracy: 73.33%"
      ],
      "metadata": {
        "id": "G4GOreeJz8Be"
      }
    },
    {
      "cell_type": "code",
      "source": [],
      "metadata": {
        "id": "HKeZXjyDkRdA"
      },
      "execution_count": 25,
      "outputs": []
    },
    {
      "cell_type": "markdown",
      "source": [
        "# Digits"
      ],
      "metadata": {
        "id": "jvogZol7_TMh"
      }
    },
    {
      "cell_type": "code",
      "source": [
        "from sklearn.datasets import load_digits\n",
        "from sklearn.model_selection import train_test_split\n",
        "from qiskit.circuit.library import ZZFeatureMap\n",
        "from sklearn.preprocessing import StandardScaler\n",
        "digits = load_digits()\n",
        "'''\n",
        "# Load and preprocess the digits dataset\n",
        "digits = load_digits()\n",
        "mask = np.isin(digits.target, [0, 1])\n",
        "X = digits.data[mask:550]  # Features\n",
        "y = (digits.target[mask:550] < 5).astype(int)  # Binary classification: Digits 0-4 vs 5-9\n",
        "'''\n",
        "# Filter to include only the samples with target 0 or 1\n",
        "mask = np.isin(digits.target, [0, 1])\n",
        "X_filtered = digits.data[mask]\n",
        "y_filtered = digits.target[mask]\n",
        "\n",
        "# Define the desired number of samples\n",
        "n_samples = 360  # Set your desired number of samples\n",
        "\n",
        "# Randomly sample n_samples from the filtered dataset\n",
        "indices = np.random.choice(len(X_filtered), n_samples, replace=False)\n",
        "X = X_filtered[indices]\n",
        "y = y_filtered[indices]\n",
        "\n",
        "\n",
        "\n",
        "# Normalize and split the dataset\n",
        "scaler = StandardScaler()\n",
        "X = scaler.fit_transform(X)\n",
        "X_train, X_test, y_train, y_test = train_test_split(X[:, :8], y, test_size=0.3, random_state=42)  # Use first 8 features\n",
        "\n",
        "# Train and test kernel SVM\n",
        "# Amplitude\n",
        "train_kernel_amplitude = compute_kernel(X_train, X_train, amplitude_encoding)\n",
        "test_kernel_amplitude = compute_kernel(X_test, X_train, amplitude_encoding)\n",
        "# Squeezing\n",
        "train_kernel_squeezing = compute_kernel(X_train, X_train, squeezing_feature_map)\n",
        "test_kernel_squeezing = compute_kernel(X_test, X_train, squeezing_feature_map)\n",
        "# Variational\n",
        "train_kernel_variational = compute_kernel(X_train, X_train, zz_feature_map)\n",
        "test_kernel_variational = compute_kernel(X_test, X_train, zz_feature_map)\n",
        "\n",
        "svm = SVC(kernel='precomputed')\n",
        "svm.fit(train_kernel_amplitude, y_train)\n",
        "y_pred_amplitude = svm.predict(test_kernel_amplitude)\n",
        "\n",
        "svm = SVC(kernel='precomputed')\n",
        "svm.fit(train_kernel_squeezing, y_train)\n",
        "y_pred_squeezing = svm.predict(test_kernel_squeezing)\n",
        "\n",
        "svm = SVC(kernel='precomputed')\n",
        "svm.fit(train_kernel_variational, y_train)\n",
        "y_pred_variational = svm.predict(test_kernel_variational)\n",
        "\n",
        "# Accuracy\n",
        "accuracy_amplitude = np.mean(y_pred_amplitude == y_test)\n",
        "accuracy_squeezing = np.mean(y_pred_squeezing == y_test)\n",
        "accuracy_variational = np.mean(y_pred_variational == y_test)\n",
        "\n",
        "print(f\"Amplitude-Encoding Kernel Test Accuracy: {accuracy_amplitude * 100:.2f}%\")\n",
        "print(f\"Squeezing-Based Kernel Test Accuracy: {accuracy_squeezing * 100:.2f}%\")\n",
        "print(f\"Variational Kernel Test Accuracy: {accuracy_variational * 100:.2f}%\")\n"
      ],
      "metadata": {
        "colab": {
          "base_uri": "https://localhost:8080/"
        },
        "id": "jGy_6cNs_VIn",
        "outputId": "819c2e98-4cab-4c2e-ddf0-322f2c6e1a5a"
      },
      "execution_count": 26,
      "outputs": [
        {
          "output_type": "stream",
          "name": "stdout",
          "text": [
            "Amplitude-Encoding Kernel Test Accuracy: 62.96%\n",
            "Squeezing-Based Kernel Test Accuracy: 75.00%\n",
            "Variational Kernel Test Accuracy: 61.11%\n"
          ]
        }
      ]
    },
    {
      "cell_type": "markdown",
      "source": [
        "Amplitude-Encoding Kernel Test Accuracy: 62.96% Squeezing-Based Kernel Test Accuracy: 75.00% Variational Kernel Test Accuracy: 61.11%"
      ],
      "metadata": {
        "id": "vKyL_OR-0G0g"
      }
    },
    {
      "cell_type": "code",
      "source": [
        "plt.gray()\n",
        "plt.matshow(digits.images[0])\n",
        "plt.show()"
      ],
      "metadata": {
        "colab": {
          "base_uri": "https://localhost:8080/",
          "height": 454
        },
        "id": "PgIS5j6HYAGc",
        "outputId": "03af34d2-d5f8-4458-9d82-eaf1e19e4750"
      },
      "execution_count": 27,
      "outputs": [
        {
          "output_type": "display_data",
          "data": {
            "text/plain": [
              "<Figure size 640x480 with 0 Axes>"
            ]
          },
          "metadata": {}
        },
        {
          "output_type": "display_data",
          "data": {
            "text/plain": [
              "<Figure size 480x480 with 1 Axes>"
            ],
            "image/png": "[encoded data removed]"
          },
          "metadata": {}
        }
      ]
    },
    {
      "cell_type": "code",
      "source": [],
      "metadata": {
        "id": "oBzlJJFg_hCt"
      },
      "execution_count": 27,
      "outputs": []
    },
    {
      "cell_type": "markdown",
      "source": [
        "# Moons"
      ],
      "metadata": {
        "id": "-IwefKRl_-EU"
      }
    },
    {
      "cell_type": "code",
      "source": [
        "from sklearn.datasets import make_moons\n",
        "\n",
        "# Generate Moons dataset\n",
        "X, y = make_moons(n_samples=150, noise=0.1, random_state=42)\n",
        "\n",
        "# Split dataset\n",
        "X_train, X_test, y_train, y_test = train_test_split(X, y, test_size=0.3, random_state=42)\n",
        "\n",
        "# Train and test kernel SVM\n",
        "# Amplitude\n",
        "train_kernel_amplitude = compute_kernel(X_train, X_train, amplitude_encoding)\n",
        "test_kernel_amplitude = compute_kernel(X_test, X_train, amplitude_encoding)\n",
        "# Squeezing\n",
        "train_kernel_squeezing = compute_kernel(X_train, X_train, squeezing_feature_map)\n",
        "test_kernel_squeezing = compute_kernel(X_test, X_train, squeezing_feature_map)\n",
        "# Variational\n",
        "train_kernel_variational = compute_kernel(X_train, X_train, zz_feature_map)\n",
        "test_kernel_variational = compute_kernel(X_test, X_train, zz_feature_map)\n",
        "\n",
        "svm = SVC(kernel='precomputed')\n",
        "svm.fit(train_kernel_amplitude, y_train)\n",
        "y_pred_amplitude = svm.predict(test_kernel_amplitude)\n",
        "\n",
        "svm = SVC(kernel='precomputed')\n",
        "svm.fit(train_kernel_squeezing, y_train)\n",
        "y_pred_squeezing = svm.predict(test_kernel_squeezing)\n",
        "\n",
        "svm = SVC(kernel='precomputed')\n",
        "svm.fit(train_kernel_variational, y_train)\n",
        "y_pred_variational = svm.predict(test_kernel_variational)\n",
        "\n",
        "# Accuracy\n",
        "accuracy_amplitude = np.mean(y_pred_amplitude == y_test)\n",
        "accuracy_squeezing = np.mean(y_pred_squeezing == y_test)\n",
        "accuracy_variational = np.mean(y_pred_variational == y_test)\n",
        "\n",
        "print(f\"Amplitude-Encoding Kernel Test Accuracy: {accuracy_amplitude * 100:.2f}%\")\n",
        "print(f\"Squeezing-Based Kernel Test Accuracy: {accuracy_squeezing * 100:.2f}%\")\n",
        "print(f\"Variational Kernel Test Accuracy: {accuracy_variational * 100:.2f}%\")\n",
        "\n"
      ],
      "metadata": {
        "colab": {
          "base_uri": "https://localhost:8080/"
        },
        "id": "8kJb5CAlAAYD",
        "outputId": "373dcb3d-7c24-49e4-d1ad-d23dec885243"
      },
      "execution_count": 28,
      "outputs": [
        {
          "output_type": "stream",
          "name": "stdout",
          "text": [
            "Amplitude-Encoding Kernel Test Accuracy: 71.11%\n",
            "Squeezing-Based Kernel Test Accuracy: 82.22%\n",
            "Variational Kernel Test Accuracy: 66.67%\n"
          ]
        }
      ]
    },
    {
      "cell_type": "markdown",
      "source": [
        "Amplitude-Encoding Kernel Test Accuracy: 71.11% Squeezing-Based Kernel Test Accuracy: 82.22% Variational Kernel Test Accuracy: 66.67%"
      ],
      "metadata": {
        "id": "v_lBgUGQ0J6E"
      }
    },
    {
      "cell_type": "code",
      "source": [
        "\n",
        "# 2- Visualizing the dataset.\n",
        "from matplotlib import pyplot as plt\n",
        "\n",
        "# When the label y is 0, the class is represented with a blue square.\n",
        "# When the label y is 1, the class is represented with a green triangle.\n",
        "plt.plot(X[:, 0][y==1], X[:, 1][y==1], \"bo\")\n",
        "plt.plot(X[:, 0][y==0], X[:, 1][y==0], \"ro\")\n",
        "\n",
        "# X contains two features, x1 and x2\n",
        "plt.xlabel(r\"$x_1$\", fontsize=20)\n",
        "plt.ylabel(r\"$x_2$\", fontsize=20)\n",
        "\n",
        "# Simplifying the plot by removing the axis scales.\n",
        "plt.xticks([])\n",
        "plt.yticks([])\n",
        "\n",
        "# Displaying the plot.\n",
        "plt.show()"
      ],
      "metadata": {
        "colab": {
          "base_uri": "https://localhost:8080/",
          "height": 440
        },
        "id": "44jtUrm6ABJH",
        "outputId": "13bdd3bd-fb03-4ff4-9c98-c27babdc3fc3"
      },
      "execution_count": 29,
      "outputs": [
        {
          "output_type": "display_data",
          "data": {
            "text/plain": [
              "<Figure size 640x480 with 1 Axes>"
            ],
            "image/png": "[encoded data removed]"
          },
          "metadata": {}
        }
      ]
    },
    {
      "cell_type": "code",
      "source": [],
      "metadata": {
        "id": "veOLZ7gaWype"
      },
      "execution_count": 29,
      "outputs": []
    }
  ]
}